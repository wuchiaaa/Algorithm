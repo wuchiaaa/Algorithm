{
 "cells": [
  {
   "cell_type": "markdown",
   "metadata": {},
   "source": [
    "給定一個陣列 prices ，它的第 i 個元素 prices[i] 表示一支給定股票第 i 天的價格。\n",
    "\n",
    "你只能選擇 某一天 買入這檔股票，並選擇在 未來的某一個不同的日子 賣出該股票。設計一個演算法來計算你所能獲取的最大利潤。\n",
    "\n",
    "返回你可以從這筆交易中獲取的最大利潤。如果你不能獲取任何利潤，返回 0 。\n",
    "\n",
    "來源：力扣（LeetCode）"
   ]
  },
  {
   "cell_type": "code",
   "execution_count": 8,
   "metadata": {},
   "outputs": [],
   "source": [
    "class Solution:\n",
    "    def maxProfit(prices):\n",
    "        sellin = prices[0]\n",
    "        profit = 0\n",
    "        subtract = 0\n",
    "        for i in range(1, len(prices)):\n",
    "            sellout = prices[i]  \n",
    "            if sellin < sellout:\n",
    "                subtract = sellout - sellin\n",
    "                if profit < subtract:\n",
    "                    profit = subtract\n",
    "                    # print(\"第{0}次的利潤\".format(profit))\n",
    "            else:\n",
    "                if sellin > sellout:\n",
    "                    sellin = sellout\n",
    "            \n",
    "        return profit"
   ]
  },
  {
   "cell_type": "code",
   "execution_count": 12,
   "metadata": {},
   "outputs": [
    {
     "data": {
      "text/plain": [
       "5"
      ]
     },
     "execution_count": 12,
     "metadata": {},
     "output_type": "execute_result"
    }
   ],
   "source": [
    "prices = [7,1,5,3,6,4]\n",
    "Solution.maxProfit(prices)"
   ]
  },
  {
   "cell_type": "code",
   "execution_count": 11,
   "metadata": {},
   "outputs": [
    {
     "data": {
      "text/plain": [
       "0"
      ]
     },
     "execution_count": 11,
     "metadata": {},
     "output_type": "execute_result"
    }
   ],
   "source": [
    "prices2 = [7,6,4,3,1]\n",
    "Solution.maxProfit(prices2)"
   ]
  },
  {
   "cell_type": "code",
   "execution_count": null,
   "metadata": {},
   "outputs": [],
   "source": []
  }
 ],
 "metadata": {
  "kernelspec": {
   "display_name": "Python 3",
   "language": "python",
   "name": "python3"
  },
  "language_info": {
   "codemirror_mode": {
    "name": "ipython",
    "version": 3
   },
   "file_extension": ".py",
   "mimetype": "text/x-python",
   "name": "python",
   "nbconvert_exporter": "python",
   "pygments_lexer": "ipython3",
   "version": "3.7.0"
  }
 },
 "nbformat": 4,
 "nbformat_minor": 2
}
